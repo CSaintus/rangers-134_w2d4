{
 "cells": [
  {
   "cell_type": "markdown",
   "metadata": {},
   "source": [
    "# User-Defined Functions & Scoping"
   ]
  },
  {
   "cell_type": "markdown",
   "metadata": {},
   "source": [
    "## Tasks Today:\n",
    "\n",
    "\n",
    "1) Functions <br>\n",
    " &nbsp;&nbsp;&nbsp;&nbsp; a) User-Defined vs. Built-In Functions <br>\n",
    " &nbsp;&nbsp;&nbsp;&nbsp; b) Accepting Parameters <br>\n",
    " &nbsp;&nbsp;&nbsp;&nbsp; c) Default Parameters <br>\n",
    " &nbsp;&nbsp;&nbsp;&nbsp; d) Making an Argument Optional <br>\n",
    " &nbsp;&nbsp;&nbsp;&nbsp; e) Keyword Arguments <br>\n",
    " &nbsp;&nbsp;&nbsp;&nbsp; f) Returning Values <br>\n",
    " &nbsp;&nbsp;&nbsp;&nbsp; g) *args <br>\n",
    " &nbsp;&nbsp;&nbsp;&nbsp; h) Docstring <br>\n",
    " &nbsp;&nbsp;&nbsp;&nbsp; i) Using a User Function in a Loop <br>\n",
    "2) Scope\n",
    "3) Creating more User-Defined functions "
   ]
  },
  {
   "cell_type": "markdown",
   "metadata": {},
   "source": [
    "\n",
    "## Functions"
   ]
  },
  {
   "cell_type": "markdown",
   "metadata": {},
   "source": [
    "##### User-Defined vs. Built-In Functions"
   ]
  },
  {
   "cell_type": "code",
   "execution_count": 2,
   "metadata": {},
   "outputs": [
    {
     "name": "stdout",
     "output_type": "stream",
     "text": [
      "hello\n",
      "hello again\n",
      "HELLO AGAIN\n",
      "Hello\n"
     ]
    }
   ],
   "source": [
    "# Built-in function \n",
    "# print(\"Hello\")\n",
    "print(\"hello\")\n",
    "\n",
    "# user defined function\n",
    "\n",
    "# def precedes every function name\n",
    "# def keyword function name (which can be anything, its just a variable name) parentheses(parameter) **not all functions\n",
    "# will accept parameters\n",
    "def say_hello():\n",
    "    return \"hello\" # output of a function\n",
    "# return will give us a tangible value we can work with, pass into other functions, alter, set to variable\n",
    "\n",
    "say_hello() # calling a function \n",
    "# call a function by typing the name of the function followed by parentheses\n",
    "\n",
    "def say_hello2():\n",
    "    return \"hello again\"\n",
    "\n",
    "output = say_hello2() # setting a variable to the output of a function\n",
    "\n",
    "print(output)\n",
    "\n",
    "print(say_hello2().upper()) # change the shape of the output with a builtin function\n",
    "\n",
    "# use the output of a function inside another function\n",
    "def say_hello3():\n",
    "    hello = say_hello() #setting a variable inside a function to the output of another function\n",
    "    return hello.title() #title casing output from another function\n",
    "\n",
    "print(say_hello3())"
   ]
  },
  {
   "cell_type": "markdown",
   "metadata": {},
   "source": [
    "##### Accepting Parameters"
   ]
  },
  {
   "cell_type": "code",
   "execution_count": null,
   "metadata": {
    "scrolled": true
   },
   "outputs": [],
   "source": [
    "# elements passed into a function\n",
    "# variables to hold the place of items our function will act upon\n",
    "# order matters\n",
    "# a parameter can be of any object type (data type)\n",
    "                    #parameter\n"
   ]
  },
  {
   "cell_type": "code",
   "execution_count": 1,
   "metadata": {},
   "outputs": [
    {
     "name": "stdout",
     "output_type": "stream",
     "text": [
      "{'hello there': 'general kenobi'}\n",
      "The scary pumpkin sleeps to the bathroom\n",
      "The furious car drives to the bathroom\n",
      "[4, 16, 36, 64]\n",
      "[16, 324, 256, 100]\n"
     ]
    }
   ],
   "source": [
    "# elements passed into a function\n",
    "# variables to hold the place of items our function will act upon\n",
    "# order matters\n",
    "# a parameter can be of any object type (data type)\n",
    "                #parameter holding the place of any possible list we can pass in\n",
    "# def square_even(parameter):\n",
    "\n",
    "# def square_even(a_list):\n",
    "#     for num in potato:\n",
    "#         if num % 2 == 0:\n",
    "#                   parameter\n",
    "def print_something(something):\n",
    "    return something\n",
    "#  when calling a function, the thing you put in the parantheses\n",
    "# is called an argument\n",
    "#the difference between a parameter and an argument:\n",
    "# a parameter is a place holder for an argument\n",
    "# an argument is what the function acts on\n",
    "#                     argument\n",
    "print(print_something({'hello there': 'general kenobi'}))\n",
    "# we can call the same function several times with different arguments and get a different output each time\n",
    "def adlib(noun, adjective, verb):\n",
    "    return f\"The {adjective} {noun} {verb} to the bathroom\"\n",
    "print(adlib(\"pumpkin\", \"scary\", \"sleeps\"))\n",
    "\n",
    "print(adlib(\"car\", \"furious\", \"drives\"))\n",
    "\n",
    "# Write a function that loops through a given list and returns a list with only the even numbers squared.\n",
    "#               parameter \n",
    "\n",
    "list1 = [2,3,4,5,6,7,8]\n",
    "list2 = [4, 18, 3, 13, 16, 10, 27]\n",
    "def square_even(a_list):\n",
    "    blist = []\n",
    "    #         function is acting on the parameter\n",
    "    for num in a_list:\n",
    "        if num % 2 == 0:\n",
    "            blist.append(num**2)\n",
    "#         output a list with all of our numbers squared\n",
    "    return(blist)\n",
    "#                  argument \n",
    "print(square_even(list1))\n",
    "#                  argument \n",
    "print(square_even(list2))"
   ]
  },
  {
   "cell_type": "markdown",
   "metadata": {},
   "source": [
    "##### Default Parameters"
   ]
  },
  {
   "cell_type": "code",
   "execution_count": null,
   "metadata": {},
   "outputs": [],
   "source": [
    "# default parameters must always come after non-default parameters at all times forever and ever...or else\n"
   ]
  },
  {
   "cell_type": "code",
   "execution_count": null,
   "metadata": {},
   "outputs": [],
   "source": [
    "# default parameters must always come after non-default parameters at all times forever and ever...or else\n",
    "\n"
   ]
  },
  {
   "cell_type": "markdown",
   "metadata": {},
   "source": [
    "##### Making an Argument Optional"
   ]
  },
  {
   "cell_type": "code",
   "execution_count": null,
   "metadata": {},
   "outputs": [],
   "source": []
  },
  {
   "cell_type": "markdown",
   "metadata": {},
   "source": [
    "##### Keyword Arguments"
   ]
  },
  {
   "cell_type": "code",
   "execution_count": null,
   "metadata": {},
   "outputs": [],
   "source": [
    "#keyword arguments must follow positional arugments\n"
   ]
  },
  {
   "cell_type": "markdown",
   "metadata": {},
   "source": [
    "# Creating a start, stop, step function"
   ]
  },
  {
   "cell_type": "code",
   "execution_count": null,
   "metadata": {
    "scrolled": true
   },
   "outputs": [],
   "source": []
  },
  {
   "cell_type": "markdown",
   "metadata": {},
   "source": [
    "##### Returning Values"
   ]
  },
  {
   "cell_type": "code",
   "execution_count": null,
   "metadata": {},
   "outputs": [],
   "source": []
  },
  {
   "cell_type": "markdown",
   "metadata": {},
   "source": [
    "##### *args / **kwargs (keyword arguments)"
   ]
  },
  {
   "cell_type": "code",
   "execution_count": null,
   "metadata": {},
   "outputs": [],
   "source": [
    "#*args, **kwargs\n",
    "# *args stands for arguments and will allow the function to take in any number of arguments\n",
    "# **kwargs stands for key word arguments and will allow the function to take in any number of keyword arguments\n",
    "# if other parameters are present, args and kwarfs must go last\n",
    "\n",
    "\n"
   ]
  },
  {
   "cell_type": "code",
   "execution_count": 3,
   "metadata": {},
   "outputs": [
    {
     "name": "stdout",
     "output_type": "stream",
     "text": [
      "Looping through all of our *args: \n",
      "('Krillin', 'Goku', 'Piccolo', 'Dende', 'Gohan')\n",
      "Krillin\n",
      "Goku\n",
      "Piccolo\n",
      "Dende\n",
      "Gohan\n",
      "{'Krillin': 'Destructo Disc', 'Goku': 'Kamehameha', 'Piccolo': 'Special Beam Cannon', 'Gohan': 'Masenko'}\n",
      "Krillin's special move is Destructo Disc\n",
      "Goku's special move is Kamehameha\n",
      "Piccolo's special move is Special Beam Cannon\n",
      "Gohan's special move is Masenko\n"
     ]
    }
   ],
   "source": [
    "def dbz_info(*characters, **signature_moves):\n",
    "    print(\"Looping through all of our *args: \")\n",
    "    print(characters)\n",
    "    for char in characters:\n",
    "        print(char)\n",
    "    print(signature_moves)\n",
    "    for k,v in signature_moves.items():\n",
    "        print(f\"{k}'s special move is {v}\")\n",
    "        \n",
    "dbz_info(\"Krillin\", \"Goku\", \"Piccolo\", \"Dende\", \"Gohan\", Krillin = \"Destructo Disc\", Goku = \"Kamehameha\", Piccolo = \"Special Beam Cannon\", Gohan = \"Masenko\")"
   ]
  },
  {
   "cell_type": "markdown",
   "metadata": {},
   "source": [
    "##### Docstring"
   ]
  },
  {
   "cell_type": "code",
   "execution_count": null,
   "metadata": {},
   "outputs": [],
   "source": [
    "# docstrings are a really nice way to leave notes about funciontality in your code\n",
    "# provide instructions\n",
    "\n",
    "    "
   ]
  },
  {
   "cell_type": "markdown",
   "metadata": {},
   "source": [
    "##### Using a User Function in a Loop"
   ]
  },
  {
   "cell_type": "code",
   "execution_count": null,
   "metadata": {},
   "outputs": [],
   "source": []
  },
  {
   "cell_type": "code",
   "execution_count": null,
   "metadata": {
    "scrolled": true
   },
   "outputs": [],
   "source": []
  },
  {
   "cell_type": "code",
   "execution_count": null,
   "metadata": {},
   "outputs": [],
   "source": []
  },
  {
   "cell_type": "markdown",
   "metadata": {},
   "source": [
    "## Function Exercises <br>\n",
    "### Exercise 1\n",
    "<p>Write a function that loops through a list of first_names and a list of last_names, combines the two and return a list of full_names</p>"
   ]
  },
  {
   "cell_type": "code",
   "execution_count": 4,
   "metadata": {},
   "outputs": [
    {
     "data": {
      "text/plain": [
       "['John Smith', 'Evan Smith', 'Jordan Williams', 'Max Bell']"
      ]
     },
     "execution_count": 4,
     "metadata": {},
     "output_type": "execute_result"
    }
   ],
   "source": [
    "first_name = ['John', 'Evan', 'Jordan', 'Max', \"James\"]\n",
    "last_name = ['Smith', 'Smith', 'Williams', 'Bell']\n",
    "\n",
    "first_name = ['John', 'Evan', 'Jordan', 'Max']\n",
    "last_name = ['Smith', 'Smith', 'Williams', 'Bell']\n",
    "\n",
    "def full_names(first_names, last_names):\n",
    "    full_name = []\n",
    "    if len(first_names) != len(last_names):\n",
    "        print(\"Those two lists are of different lengths! And i dont want to deal with that!\")\n",
    "        return full_name\n",
    "    else:\n",
    "        for i in range(len(first_names)):\n",
    "            full_name.append(first_names[i] + \" \" + last_names[i])\n",
    "    return full_name\n",
    "\n",
    "\n",
    "# Output: ['John Smith', 'Evan Smith', 'Jordan Williams', 'Max Bell']\n",
    "full_names(first_name,last_name)"
   ]
  },
  {
   "cell_type": "code",
   "execution_count": null,
   "metadata": {},
   "outputs": [],
   "source": [
    "first_name = ['John', 'Evan', 'Jordan', 'Max', \"James\"]\n",
    "last_name = ['Smith', 'Smith', 'Williams', 'Bell']\n",
    "\n",
    "# Output: ['John Smith', 'Evan Smith', 'Jordan Williams', 'Max Bell']\n"
   ]
  },
  {
   "cell_type": "markdown",
   "metadata": {},
   "source": [
    "### Exercise 2\n",
    "Create a function that alters all values in the given list by subtracting 5 and then doubling them."
   ]
  },
  {
   "cell_type": "code",
   "execution_count": 16,
   "metadata": {},
   "outputs": [
    {
     "name": "stdout",
     "output_type": "stream",
     "text": [
      "[0, 10, 20, 30, -4]\n"
     ]
    }
   ],
   "source": [
    "input_list = [5,10,15,20,3]\n",
    "# output = [0,10,20,30,-4]\n",
    "\n",
    "input_list = [5,10,15,20,3]\n",
    "# output = [0,10,20,30,-4]\n",
    "\n",
    "def subtract_double(a_list):\n",
    "    result = []\n",
    "    for value in a_list:\n",
    "        new = (value - 5 ) * 2\n",
    "        result.append(new)\n",
    "    return result\n",
    "print (subtract_double(input_list))\n",
    "\n",
    "\n",
    "input_list = [5,10,15,20,3]\n",
    "\n",
    "# output = [0,10,20,30,-4]\n",
    "\n",
    "\n",
    "def func(list9):\n",
    "    return [(i-5)*2 for i in list9]\n",
    "\n",
    "print(func(input_list))input_list = [5,10,15,20,3]\n",
    "# output = [0,10,20,30,-4]\n",
    "\n",
    "    "
   ]
  },
  {
   "cell_type": "markdown",
   "metadata": {},
   "source": [
    "### Exercise 3\n",
    "Create a function that takes in a list of strings and filters out the strings that DO NOT contain vowels. "
   ]
  },
  {
   "cell_type": "code",
   "execution_count": 19,
   "metadata": {},
   "outputs": [
    {
     "name": "stdout",
     "output_type": "stream",
     "text": [
      "['Sheldon', 'Penny', 'Leonard', 'Howard', 'Raj', 'Amy', 'Street']\n"
     ]
    }
   ],
   "source": [
    "string_list = ['Sheldon','Pnny','Leonard','Hwrd','Rj','Amy','Strt']\n",
    "# output = ['Sheldon','Leonard','Amy']\n"
   ]
  },
  {
   "cell_type": "code",
   "execution_count": null,
   "metadata": {},
   "outputs": [],
   "source": []
  },
  {
   "cell_type": "code",
   "execution_count": null,
   "metadata": {},
   "outputs": [],
   "source": []
  },
  {
   "cell_type": "markdown",
   "metadata": {},
   "source": [
    "### Exercise 4\n",
    "Create a function that accepts a list as a parameter and returns a dictionary containing the list items as it's keys, and the number of times they appear in the list as the values"
   ]
  },
  {
   "cell_type": "code",
   "execution_count": 20,
   "metadata": {},
   "outputs": [
    {
     "name": "stdout",
     "output_type": "stream",
     "text": [
      "{'Harry': 3, 'Hermione': 2, 'Ron': 4, 'Dobby': 1, 'Draco': 1, 'Luna': 1}\n"
     ]
    }
   ],
   "source": [
    "example_list = [\"Harry\", 'Hermione','Harry','Ron','Dobby','Draco','Luna','Harry','Hermione','Ron','Ron','Ron']\n",
    "\n",
    "# output = {\n",
    "#     \"Harry\":3,\n",
    "#     \"Hermione\":2,\n",
    "#     \"Ron\":4,\n",
    "#     \"Dobby\":1,\n",
    "#     \"Draco\":1,\n",
    "#     \"Luna\": 1\n",
    "# }\n",
    "\n",
    "def count_items(lst):\n",
    "    item_count = {}\n",
    "    \n",
    "    for item in lst:\n",
    "        if item in item_count:\n",
    "            item_count[item] += 1\n",
    "        else:\n",
    "            item_count[item] = 1\n",
    "    return item_count\n",
    "result = count_items(example_list)\n",
    "\n",
    "print(result)\n"
   ]
  },
  {
   "cell_type": "markdown",
   "metadata": {},
   "source": [
    "\n",
    "\n",
    "## Scope <br>\n",
    "<p>Scope refers to the ability to access variables, different types of scope include:<br>a) Global<br>b) Function (local)<br>c) Class (local)</p>"
   ]
  },
  {
   "cell_type": "code",
   "execution_count": null,
   "metadata": {},
   "outputs": [],
   "source": [
    "# placement of variable declaration matters\n",
    "\n",
    "\n",
    "print(num1)"
   ]
  },
  {
   "cell_type": "markdown",
   "metadata": {},
   "source": [
    "## Modules"
   ]
  },
  {
   "cell_type": "markdown",
   "metadata": {},
   "source": [
    "##### Importing Entire Modules\n"
   ]
  },
  {
   "cell_type": "code",
   "execution_count": null,
   "metadata": {},
   "outputs": [],
   "source": [
    "## Modules\n",
    "\n",
    "\n"
   ]
  },
  {
   "cell_type": "markdown",
   "metadata": {},
   "source": [
    "##### Importing Methods Only"
   ]
  },
  {
   "cell_type": "code",
   "execution_count": null,
   "metadata": {},
   "outputs": [],
   "source": [
    "# from xxx import yyy\n",
    "#from math import floor\n"
   ]
  },
  {
   "cell_type": "markdown",
   "metadata": {},
   "source": [
    "##### Using the 'as' Keyword"
   ]
  },
  {
   "cell_type": "code",
   "execution_count": null,
   "metadata": {},
   "outputs": [],
   "source": [
    "# from xxx import yyy as z\n"
   ]
  },
  {
   "cell_type": "markdown",
   "metadata": {},
   "source": [
    "##### Creating a Module"
   ]
  },
  {
   "cell_type": "code",
   "execution_count": null,
   "metadata": {},
   "outputs": [],
   "source": [
    "from module import printName as pn\n",
    "\n"
   ]
  },
  {
   "cell_type": "code",
   "execution_count": null,
   "metadata": {},
   "outputs": [],
   "source": []
  },
  {
   "cell_type": "code",
   "execution_count": null,
   "metadata": {},
   "outputs": [],
   "source": []
  },
  {
   "cell_type": "markdown",
   "metadata": {},
   "source": [
    "# Homework Exercises"
   ]
  },
  {
   "cell_type": "markdown",
   "metadata": {},
   "source": [
    "### 1) Create a Module in VS Code and Import It into jupyter notebook <br>\n",
    "<p><b>Module should have the following capabilities:</b><br><br>\n",
    "1a) Has a function to calculate the square footage of a house <br>\n",
    "    <b>Reminder of Formula: Length X Width == Area</b><br>\n",
    "        <hr>\n",
    "1b) Has a function to calculate the circumference of a circle 2 Pi r <br><br>\n",
    "<b>Program in Jupyter Notebook should take in user input and use imported functions to calculate a circle's circumference or a houses square footage</b>\n",
    "</p>"
   ]
  },
  {
   "cell_type": "code",
   "execution_count": 5,
   "metadata": {},
   "outputs": [
    {
     "name": "stdout",
     "output_type": "stream",
     "text": [
      "add length of the house: 10\n",
      "add width of the house: 25\n"
     ]
    },
    {
     "ename": "TypeError",
     "evalue": "get_square_footage() takes 0 positional arguments but 2 were given",
     "output_type": "error",
     "traceback": [
      "\u001b[0;31m---------------------------------------------------------------------------\u001b[0m",
      "\u001b[0;31mTypeError\u001b[0m                                 Traceback (most recent call last)",
      "Cell \u001b[0;32mIn[5], line 6\u001b[0m\n\u001b[1;32m      3\u001b[0m length \u001b[38;5;241m=\u001b[39m \u001b[38;5;28mfloat\u001b[39m(\u001b[38;5;28minput\u001b[39m(\u001b[38;5;124m\"\u001b[39m\u001b[38;5;124madd length of the house: \u001b[39m\u001b[38;5;124m\"\u001b[39m))\n\u001b[1;32m      4\u001b[0m width \u001b[38;5;241m=\u001b[39m \u001b[38;5;28mfloat\u001b[39m(\u001b[38;5;28minput\u001b[39m(\u001b[38;5;124m\"\u001b[39m\u001b[38;5;124madd width of the house: \u001b[39m\u001b[38;5;124m\"\u001b[39m))\n\u001b[0;32m----> 6\u001b[0m square_footage \u001b[38;5;241m=\u001b[39m new_module\u001b[38;5;241m.\u001b[39mget_square_footage(length, width)\n\u001b[1;32m      7\u001b[0m \u001b[38;5;28mprint\u001b[39m(\u001b[38;5;124mf\u001b[39m\u001b[38;5;124m\"\u001b[39m\u001b[38;5;124mthe square footage of this house is: \u001b[39m\u001b[38;5;132;01m{\u001b[39;00msquare_footage\u001b[38;5;132;01m}\u001b[39;00m\u001b[38;5;124m\"\u001b[39m)\n\u001b[1;32m      9\u001b[0m radius \u001b[38;5;241m=\u001b[39m \u001b[38;5;28mfloat\u001b[39m(\u001b[38;5;28minput\u001b[39m(\u001b[38;5;124m\"\u001b[39m\u001b[38;5;124madd radius of the circle: \u001b[39m\u001b[38;5;124m\"\u001b[39m))\n",
      "\u001b[0;31mTypeError\u001b[0m: get_square_footage() takes 0 positional arguments but 2 were given"
     ]
    }
   ],
   "source": [
    "import new_module\n",
    "\n",
    "length = float(input(\"add length of the house: \"))\n",
    "width = float(input(\"add width of the house: \"))\n",
    "\n",
    "square_footage = new_module.get_square_footage(length, width)\n",
    "print(f\"the square footage of this house is: {square_footage}\")\n",
    "\n",
    "radius = float(input(\"add radius of the circle: \"))\n",
    "\n",
    "circumference = new_module.get_circle_circumference(radius)\n",
    "print(f\"the circumference of this circle is: {circumference}\")"
   ]
  },
  {
   "cell_type": "markdown",
   "metadata": {},
   "source": [
    "### 2) Build a Shopping Cart Function <br>\n",
    "<p><b>You can use either lists or dictionaries. The program should have the following capabilities:</b><br><br>\n",
    "1) Takes in input <br>\n",
    "2) Stores user input into a dictionary or list <br>\n",
    "3) The User can add or delete items <br>\n",
    "4) The User can see current shopping list <br>\n",
    "5) The program Loops until user 'quits' <br>\n",
    "6) Upon quiting the program, print out all items in the user's list <br>\n",
    "</p>"
   ]
  },
  {
   "cell_type": "code",
   "execution_count": null,
   "metadata": {},
   "outputs": [
    {
     "name": "stdout",
     "output_type": "stream",
     "text": [
      "\n",
      "Options:\n",
      "1. Add item to list\n",
      "2. Remove item from list\n",
      "3. Display list\n",
      "4. Quit\n"
     ]
    }
   ],
   "source": [
    "shopping_list = []\n",
    "\n",
    "def get_item(item):\n",
    "    shopping_list.append(item)\n",
    "    print(f\"{item} added\")\n",
    "\n",
    "def remove_item(item):\n",
    "    if item in shopping_list:\n",
    "        shopping_list.remove(item)\n",
    "        print(f\"{item} removed\")\n",
    "    else:\n",
    "        print(f\"{item} is not in your shopping list.\")\n",
    "\n",
    "def show_list():\n",
    "    if not shopping_list:\n",
    "        print(\"empty list\")\n",
    "    else:\n",
    "        print(\"Your list:\")\n",
    "        for item in shopping_list:\n",
    "            print({item})\n",
    "\n",
    "while True:\n",
    "    print(\"\\nOptions:\")\n",
    "    print(\"1. Add item to list\")\n",
    "    print(\"2. Remove item from list\")\n",
    "    print(\"3. Display list\")\n",
    "    print(\"4. Quit\")\n",
    "\n",
    "    pick = input(\"pick an option (1/2/3/4): \")\n",
    "\n",
    "    if pick == '1':\n",
    "        item = input(\"add your item: \")\n",
    "        get_item(item)\n",
    "    elif pick == '2':\n",
    "        item = input(\"remove item: \")\n",
    "        remove_item(item)\n",
    "    elif pick == '3':\n",
    "        show_list()\n",
    "    elif choice == '4':\n",
    "        print(\"\\nYour entire list:\")\n",
    "        show_list()\n",
    "        break\n",
    "    else:\n",
    "        print(\"pick a valid option (1/2/3/4).\")\n",
    "\n",
    "print(\"Thank you for shopping!\")"
   ]
  },
  {
   "cell_type": "code",
   "execution_count": null,
   "metadata": {},
   "outputs": [],
   "source": []
  }
 ],
 "metadata": {
  "kernelspec": {
   "display_name": "Python 3 (ipykernel)",
   "language": "python",
   "name": "python3"
  },
  "language_info": {
   "codemirror_mode": {
    "name": "ipython",
    "version": 3
   },
   "file_extension": ".py",
   "mimetype": "text/x-python",
   "name": "python",
   "nbconvert_exporter": "python",
   "pygments_lexer": "ipython3",
   "version": "3.11.4"
  }
 },
 "nbformat": 4,
 "nbformat_minor": 2
}
